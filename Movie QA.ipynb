{
 "cells": [
  {
   "cell_type": "code",
   "execution_count": 1,
   "metadata": {},
   "outputs": [],
   "source": [
    "import numpy as np\n",
    "import pandas as pd\n",
    "from scrapy.selector import Selector\n",
    "from selenium import webdriver\n",
    "from selenium.webdriver.common.by import By\n",
    "from selenium.webdriver.common.keys import Keys\n",
    "import time\n",
    "from tqdm import tqdm\n",
    "from imdb import Cinemagoer\n",
    "import os\n",
    "import getpass\n",
    "import warnings\n",
    "from langchain_google_genai import GoogleGenerativeAI\n",
    "warnings.filterwarnings(\"ignore\")"
   ]
  },
  {
   "cell_type": "code",
   "execution_count": 2,
   "metadata": {},
   "outputs": [],
   "source": [
    "def scrape(filename):\n",
    "    ia = Cinemagoer()\n",
    "    response = ia.search_movie(filename)\n",
    "    url=f\"https://www.imdb.com/title/tt{response[0].movieID}/reviews/?ref_=tt_ov_rt\"\n",
    "    filename=\"data/\"+filename\n",
    "    chrome_options = webdriver.ChromeOptions()\n",
    "    chrome_options.add_argument('--headless')\n",
    "    chrome_options.add_argument('--no-sandbox')\n",
    "    chrome_options.add_argument('--disable-dev-shm-usage')\n",
    "    driver = webdriver.Chrome(options=chrome_options)\n",
    "    url+=\"reviews?sort=totalVotes&dir=desc&ratingFilter=0\"\n",
    "    driver.get(url)\n",
    "    sel = Selector(text = driver.page_source)\n",
    "    review_counts = sel.css('.lister .header span::text').extract_first().replace(',','').split(' ')[0]\n",
    "    more_review_pages = min((int(review_counts)+24)//25,101)-1\n",
    "    i = 0\n",
    "    j=0\n",
    "    t = tqdm(range(int(more_review_pages)))  \n",
    "    while (i<more_review_pages):\n",
    "        try:\n",
    "            css_selector = 'load-more-trigger'\n",
    "            driver.find_element(By.ID, css_selector).click()\n",
    "            time.sleep(1)\n",
    "            i+=1\n",
    "            j=0\n",
    "            t.update(1)\n",
    "        except:\n",
    "            time.sleep(0.2)\n",
    "            j+=1\n",
    "            if (j==20):\n",
    "                i+=1\n",
    "                j=0\n",
    "            continue\n",
    "    t.close()\n",
    "    rating_list = []\n",
    "    review_date_list = []\n",
    "    review_title_list = []\n",
    "    author_list = []\n",
    "    review_list = []\n",
    "    review_url_list = []\n",
    "    error_url_list = []\n",
    "    error_msg_list = []\n",
    "    reviews = driver.find_elements(By.CSS_SELECTOR, 'div.review-container')\n",
    "\n",
    "    for d in tqdm(reviews):\n",
    "        try:\n",
    "            sel2 = Selector(text = d.get_attribute('innerHTML'))\n",
    "            try:\n",
    "                rating = sel2.css('.rating-other-user-rating span::text').extract_first()\n",
    "            except:\n",
    "                rating = np.NaN\n",
    "            try:\n",
    "                review = sel2.css('.text.show-more__control::text').extract_first()\n",
    "            except:\n",
    "                review = np.NaN\n",
    "            try:\n",
    "                review_date = sel2.css('.review-date::text').extract_first()\n",
    "            except:\n",
    "                review_date = np.NaN\n",
    "            try:\n",
    "                author = sel2.css('.display-name-link a::text').extract_first()\n",
    "            except:\n",
    "                author = np.NaN\n",
    "            try:\n",
    "                review_title = sel2.css('a.title::text').extract_first()\n",
    "            except:\n",
    "                review_title = np.NaN\n",
    "            try:\n",
    "                review_url = sel2.css('a.title::attr(href)').extract_first()\n",
    "            except:\n",
    "                review_url = np.NaN\n",
    "            rating_list.append(rating)\n",
    "            review_date_list.append(review_date)\n",
    "            review_title_list.append(review_title)\n",
    "            author_list.append(author)\n",
    "            review_list.append(review)\n",
    "            review_url_list.append(review_url)\n",
    "        except Exception as e:\n",
    "            error_url_list.append(url)\n",
    "            error_msg_list.append(e)\n",
    "    review_df = pd.DataFrame({\n",
    "        'Review_Date':review_date_list,\n",
    "        'Author':author_list,\n",
    "        'Rating':rating_list,\n",
    "        'Review_Title':review_title_list,\n",
    "        'Review':review_list,\n",
    "        'Review_Url':review_url\n",
    "        })\n",
    "    review_df.to_csv(f'{filename}.csv', index=False)"
   ]
  },
  {
   "cell_type": "code",
   "execution_count": 3,
   "metadata": {},
   "outputs": [],
   "source": [
    "from langchain.retrievers import BM25Retriever, EnsembleRetriever\n",
    "from langchain.vectorstores import FAISS\n",
    "from langchain_google_genai import GoogleGenerativeAIEmbeddings\n",
    "from langchain.embeddings import CacheBackedEmbeddings\n",
    "from langchain.storage import LocalFileStore\n",
    "from langchain.text_splitter import RecursiveCharacterTextSplitter\n",
    "from langchain.document_loaders import WikipediaLoader, CSVLoader\n",
    "def build_retriever(filename):\n",
    "    wiki=WikipediaLoader(query=f\"{filename} (film)\", load_max_docs=1, doc_content_chars_max=1_000_000).load()\n",
    "    csv=CSVLoader(file_path=f\"data/{filename}.csv\", source_column=\"Review_Url\").load()\n",
    "    wikipedia_text_splitter = RecursiveCharacterTextSplitter(\n",
    "        chunk_size = 500,\n",
    "        chunk_overlap = 0,\n",
    "        length_function = len,\n",
    "        is_separator_regex= False,\n",
    "        separators = [\"\\n==\", \"\\n\", \" \"] \n",
    "    )\n",
    "\n",
    "    csv_text_splitter = RecursiveCharacterTextSplitter(\n",
    "        chunk_size = 1000,\n",
    "        chunk_overlap = 50,\n",
    "        length_function = len,\n",
    "        is_separator_regex= False,\n",
    "        separators = [\"\\n\", \" \"] \n",
    "    )\n",
    "\n",
    "    chunked_wikipedia_docs = wikipedia_text_splitter.transform_documents(wiki)\n",
    "    chunked__csv_docs = csv_text_splitter.transform_documents(csv)\n",
    "\n",
    "    store = LocalFileStore(\"./shared_cache/\")\n",
    "    core_embeddings_model = GoogleGenerativeAIEmbeddings(model=\"models/embedding-001\")\n",
    "\n",
    "    embedder = CacheBackedEmbeddings.from_bytes_store(\n",
    "        core_embeddings_model, store, namespace=core_embeddings_model.model\n",
    "    )\n",
    "    faiss_retriever = FAISS.from_documents(chunked__csv_docs, embedder).as_retriever()\n",
    "\n",
    "    wiki_bm25_retriever = BM25Retriever.from_documents(\n",
    "        chunked_wikipedia_docs\n",
    "    )\n",
    "    wiki_bm25_retriever.k = 1\n",
    "\n",
    "    # set up FAISS vector store\n",
    "    wiki_faiss_store = FAISS.from_documents(\n",
    "        chunked_wikipedia_docs, embedder\n",
    "    )\n",
    "\n",
    "    wiki_faiss_retriever = wiki_faiss_store.as_retriever(search_kwargs={\"k\": 1})\n",
    "\n",
    "    # set up ensemble retriever\n",
    "    ensemble_retriever = EnsembleRetriever(\n",
    "        retrievers=[wiki_bm25_retriever, wiki_faiss_retriever],\n",
    "        weights=[0.25, 0.75] \n",
    "    )\n",
    "    return faiss_retriever,ensemble_retriever"
   ]
  },
  {
   "cell_type": "code",
   "execution_count": 4,
   "metadata": {},
   "outputs": [],
   "source": [
    "from langchain.agents.agent_toolkits import create_retriever_tool\n",
    "\n",
    "def get_retriever_tool(csv_retriever, wiki_retriever, name):\n",
    "    wiki_retriever_tool = create_retriever_tool(\n",
    "        csv_retriever, \n",
    "        \"Wikipedia\",\n",
    "        f\"Searches and returns documents regarding the plot, history, and cast of the {name} movie\"\n",
    "    )\n",
    "\n",
    "    csv_retriever_tool = create_retriever_tool(\n",
    "        wiki_retriever,\n",
    "        \"PublicReviews\",\n",
    "        f\"Searches and returns documents regarding public reviews of the {name} movie\"\n",
    "    )\n",
    "\n",
    "    retriever_tool = [wiki_retriever_tool, csv_retriever_tool]\n",
    "    return retriever_tool"
   ]
  },
  {
   "cell_type": "code",
   "execution_count": 5,
   "metadata": {},
   "outputs": [],
   "source": [
    "from langchain.agents.agent_toolkits import create_conversational_retrieval_agent\n",
    "def create_agent(llm, retriever_tool, verbose=False):\n",
    "    return create_conversational_retrieval_agent(\n",
    "        llm,\n",
    "        retriever_tool,\n",
    "        verbose=verbose\n",
    "    )"
   ]
  },
  {
   "cell_type": "code",
   "execution_count": 6,
   "metadata": {},
   "outputs": [],
   "source": [
    "def query(agent, query):\n",
    "    response=agent.invoke({\"input\":query})\n",
    "    return response[\"output\"]"
   ]
  },
  {
   "cell_type": "code",
   "execution_count": 7,
   "metadata": {},
   "outputs": [],
   "source": [
    "def build_agent(filename):\n",
    "    if \"GOOGLE_API_KEY\" not in os.environ:\n",
    "        os.environ[\"GOOGLE_API_KEY\"] = getpass.getpass(\"Provide your Google API Key\") \n",
    "    llm = GoogleGenerativeAI(model=\"gemini-1.0-pro\", google_api_key=os.environ[\"GOOGLE_API_KEY\"])\n",
    "    if not os.path.exists(f\"data/{filename}.csv\"):\n",
    "        scrape(filename)\n",
    "        print(f\"Scraped {filename}\")\n",
    "    csv_retriever, wiki_retriever=build_retriever(filename)\n",
    "    print(\"Built Retriever\")\n",
    "    retriever_tool=get_retriever_tool(csv_retriever, wiki_retriever, filename)\n",
    "    print(\"Built Retriever Tool\")\n",
    "    agent=create_agent(llm, retriever_tool)\n",
    "    print(\"Built Agent\")\n",
    "    return agent"
   ]
  },
  {
   "cell_type": "code",
   "execution_count": 8,
   "metadata": {},
   "outputs": [
    {
     "name": "stdout",
     "output_type": "stream",
     "text": [
      "Built Retriever\n",
      "Built Retriever Tool\n",
      "Built Agent\n"
     ]
    }
   ],
   "source": [
    "agent=build_agent(\"Inside Out\")"
   ]
  },
  {
   "cell_type": "code",
   "execution_count": 9,
   "metadata": {},
   "outputs": [
    {
     "name": "stdout",
     "output_type": "stream",
     "text": [
      "Starting agent call\n",
      "Inside Out has received generally positive reviews from critics. On Rotten Tomatoes, the film has a 98% approval rating based on 341 reviews, with an average rating of 8.20/10. The site's consensus reads, \"Smart, funny, and emotionally resonant, Inside Out is a Pixar masterpiece that explores the complexities of the human mind with wit and heart.\" On Metacritic, the film has a score of 85 out of 100, based on 47 critics, indicating \"universal acclaim\".\n",
      "\n",
      "Audiences have also responded positively to Inside Out. On Rotten Tomatoes, the film has an audience score of 90%, based on over 100,000 user ratings. On Metacritic, the film has a user score of 8.3 out of 10, based on over 500 user ratings.\n",
      "\n",
      "Overall, Inside Out has been praised for its originality, humor, and emotional depth. Many critics have hailed it as one of Pixar's best films.\n"
     ]
    }
   ],
   "source": [
    "print(query(agent, \"What do people think about Inside Out?\"))"
   ]
  },
  {
   "cell_type": "code",
   "execution_count": 10,
   "metadata": {},
   "outputs": [
    {
     "name": "stdout",
     "output_type": "stream",
     "text": [
      "Built Retriever\n",
      "Built Retriever Tool\n",
      "Built Agent\n"
     ]
    }
   ],
   "source": [
    "agents={}\n",
    "filename=\"Inside Out\"\n",
    "agents[filename]=build_agent(filename)"
   ]
  },
  {
   "cell_type": "code",
   "execution_count": 11,
   "metadata": {},
   "outputs": [
    {
     "name": "stdout",
     "output_type": "stream",
     "text": [
      "Built Retriever\n",
      "Built Retriever Tool\n",
      "Built Agent\n"
     ]
    }
   ],
   "source": [
    "filename=\"Barbie\"\n",
    "agents[filename]=build_agent(filename)"
   ]
  },
  {
   "cell_type": "code",
   "execution_count": 12,
   "metadata": {},
   "outputs": [
    {
     "name": "stdout",
     "output_type": "stream",
     "text": [
      "Built Retriever\n",
      "Built Retriever Tool\n",
      "Built Agent\n"
     ]
    }
   ],
   "source": [
    "filename=\"Oppenheimer\"\n",
    "agents[filename]=build_agent(filename)"
   ]
  },
  {
   "cell_type": "code",
   "execution_count": 13,
   "metadata": {},
   "outputs": [],
   "source": [
    "from langchain.agents import Tool\n",
    "from langchain.agents import ZeroShotAgent, AgentExecutor\n",
    "def create_bot(agents):\n",
    "    if \"GOOGLE_API_KEY\" not in os.environ:\n",
    "        os.environ[\"GOOGLE_API_KEY\"] = getpass.getpass(\"Provide your Google API Key\") \n",
    "    llm = GoogleGenerativeAI(model=\"gemini-1.0-pro\", google_api_key=os.environ[\"GOOGLE_API_KEY\"])\n",
    "    tools = []\n",
    "    for name,agent in agents.items():\n",
    "        tools.append(Tool(\n",
    "            name = f\"{name}Info\",\n",
    "            func=agent.invoke,\n",
    "            description=f\"useful for when you need to answer questions about {name}. Input should be a fully formed question.\"\n",
    "        ))\n",
    "    prefix = \"\"\"Answer the following questions as best you can. Give in detail explanations for you answers. If you have exerpts you can quote those too.  You have access to the following tools:\"\"\"\n",
    "    suffix = \"\"\"Begin!\"\n",
    "\n",
    "    Question: {input}\n",
    "    {agent_scratchpad}\"\"\"\n",
    "\n",
    "    prompt = ZeroShotAgent.create_prompt(\n",
    "        tools, \n",
    "        prefix=prefix, \n",
    "        suffix=suffix, \n",
    "        input_variables=[\"input\", \"agent_scratchpad\"]\n",
    "        )\n",
    "\n",
    "    from langchain import LLMChain\n",
    "\n",
    "    llm_chain = LLMChain(llm=llm, prompt=prompt)\n",
    "\n",
    "    bot = ZeroShotAgent(llm_chain=llm_chain, tools=tools, verbose=True)\n",
    "    bot_chain = AgentExecutor.from_agent_and_tools(agent=bot,\n",
    "                                                    tools=tools, \n",
    "                                                    verbose=True,\n",
    "                                                    handle_parsing_errors=\"Cannot find information\"\n",
    "                                                   )\n",
    "    return bot_chain\n",
    "\n",
    "def query_bot(bot, query):\n",
    "    return bot.invoke({\"input\":query})[\"output\"]"
   ]
  },
  {
   "cell_type": "code",
   "execution_count": 14,
   "metadata": {},
   "outputs": [
    {
     "name": "stdout",
     "output_type": "stream",
     "text": [
      "\n",
      "\n",
      "\u001b[1m> Entering new AgentExecutor chain...\u001b[0m\n",
      "Starting agent call\n"
     ]
    },
    {
     "name": "stderr",
     "output_type": "stream",
     "text": [
      "/opt/anaconda3/envs/Llamaparse/lib/python3.11/site-packages/langchain_core/_api/deprecation.py:117: LangChainDeprecationWarning: The class `langchain.agents.mrkl.base.ZeroShotAgent` was deprecated in langchain 0.1.0 and will be removed in 0.2.0. Use create_react_agent instead.\n",
      "  warn_deprecated(\n"
     ]
    },
    {
     "name": "stdout",
     "output_type": "stream",
     "text": [
      "\u001b[32;1m\u001b[1;3mThought: I need to learn about Oppenheimer and Inside Out\n",
      "Action: Inside OutInfo\n",
      "Action Input: What is Inside Out?\u001b[0mStarting agent call\n",
      "\n",
      "Observation: \u001b[36;1m\u001b[1;3m{'input': 'What is Inside Out?', 'chat_history': [HumanMessage(content='What is Inside Out?'), AIMessage(content='Inside Out is a 2015 American computer-animated comedy-drama adventure film produced by Pixar Animation Studios and released by Walt Disney Pictures. The film was directed by Pete Docter and co-directed by Ronnie del Carmen, and produced by Jonas Rivera. The screenplay was written by Docter, del Carmen, Meg LeFauve, and Josh Cooley. The film stars the voices of Amy Poehler, Bill Hader, Lewis Black, Mindy Kaling, Phyllis Smith, Richard Kind, Diane Lane, and Kyle MacLachlan.\\n\\nInside Out is set in the mind of an 11-year-old girl named Riley Andersen, where five personified emotions—Joy, Sadness, Anger, Fear, and Disgust—help her navigate the challenges of growing up. The film explores the importance of all emotions, even the negative ones, and how they work together to shape our experiences.\\n\\nInside Out received critical acclaim, with praise for its originality, humor, and emotional depth. The film grossed over $857 million worldwide, making it the fifth highest-grossing film of 2015. It won the Academy Award for Best Animated Feature Film, and was nominated for Best Original Screenplay.')], 'output': 'Inside Out is a 2015 American computer-animated comedy-drama adventure film produced by Pixar Animation Studios and released by Walt Disney Pictures. The film was directed by Pete Docter and co-directed by Ronnie del Carmen, and produced by Jonas Rivera. The screenplay was written by Docter, del Carmen, Meg LeFauve, and Josh Cooley. The film stars the voices of Amy Poehler, Bill Hader, Lewis Black, Mindy Kaling, Phyllis Smith, Richard Kind, Diane Lane, and Kyle MacLachlan.\\n\\nInside Out is set in the mind of an 11-year-old girl named Riley Andersen, where five personified emotions—Joy, Sadness, Anger, Fear, and Disgust—help her navigate the challenges of growing up. The film explores the importance of all emotions, even the negative ones, and how they work together to shape our experiences.\\n\\nInside Out received critical acclaim, with praise for its originality, humor, and emotional depth. The film grossed over $857 million worldwide, making it the fifth highest-grossing film of 2015. It won the Academy Award for Best Animated Feature Film, and was nominated for Best Original Screenplay.', 'intermediate_steps': []}\u001b[0m\n",
      "Thought:Time elapsed: 12.13960075378418\n",
      "\u001b[32;1m\u001b[1;3m I know what Inside Out is. I need to learn about Oppenheimer\n",
      "Action: OppenheimerInfo\n",
      "Action Input: What is Oppenheimer?\u001b[0mStarting agent call\n",
      "\n",
      "Observation: \u001b[38;5;200m\u001b[1;3m{'input': 'What is Oppenheimer?', 'chat_history': [HumanMessage(content='What is Oppenheimer?'), AIMessage(content='Oppenheimer is a 2023 biographical drama film based on the life of American theoretical physicist J. Robert Oppenheimer, the \"father of the atomic bomb\". The film is directed by Christopher Nolan, who co-wrote the screenplay with his brother Jonathan Nolan and Kai Bird. It stars Cillian Murphy as Oppenheimer, alongside Emily Blunt, Matt Damon, Robert Downey Jr., Florence Pugh, Rami Malek, Benny Safdie, Josh Hartnett, and Kenneth Branagh.\\n\\nThe film follows Oppenheimer\\'s involvement in the Manhattan Project, the U.S. research and development effort that produced the atomic bomb during World War II, and the subsequent development of nuclear weapons during the Cold War. It explores the moral and philosophical implications of his work, as well as the personal and professional challenges he faced as a result of his role in the development of the atomic bomb.\\n\\nOppenheimer was filmed in New Mexico, New Jersey, and California, and was produced by Nolan\\'s production company, Syncopy Inc., in association with Charles Roven\\'s Atlas Entertainment and Emma Thomas\\'s Thomas Tull Productions. The film was financed by Universal Pictures, which is also handling its distribution.\\n\\nOppenheimer is scheduled to be released in the United States on July 21, 2023.')], 'output': 'Oppenheimer is a 2023 biographical drama film based on the life of American theoretical physicist J. Robert Oppenheimer, the \"father of the atomic bomb\". The film is directed by Christopher Nolan, who co-wrote the screenplay with his brother Jonathan Nolan and Kai Bird. It stars Cillian Murphy as Oppenheimer, alongside Emily Blunt, Matt Damon, Robert Downey Jr., Florence Pugh, Rami Malek, Benny Safdie, Josh Hartnett, and Kenneth Branagh.\\n\\nThe film follows Oppenheimer\\'s involvement in the Manhattan Project, the U.S. research and development effort that produced the atomic bomb during World War II, and the subsequent development of nuclear weapons during the Cold War. It explores the moral and philosophical implications of his work, as well as the personal and professional challenges he faced as a result of his role in the development of the atomic bomb.\\n\\nOppenheimer was filmed in New Mexico, New Jersey, and California, and was produced by Nolan\\'s production company, Syncopy Inc., in association with Charles Roven\\'s Atlas Entertainment and Emma Thomas\\'s Thomas Tull Productions. The film was financed by Universal Pictures, which is also handling its distribution.\\n\\nOppenheimer is scheduled to be released in the United States on July 21, 2023.', 'intermediate_steps': []}\u001b[0m\n",
      "Thought:Time elapsed: 26.680912733078003\n",
      "\u001b[32;1m\u001b[1;3mI now know about both movies. Oppenheimer is a serious drama about the development of the atomic bomb, while Inside Out is a lighthearted comedy-drama about the emotions of an 11-year-old girl. Inside Out is a more appropriate choice for a young daughter.\n",
      "Final Answer: Inside Out is a better choice for a young daughter.\u001b[0m\n",
      "\n",
      "\u001b[1m> Finished chain.\u001b[0m\n",
      "Inside Out is a better choice for a young daughter.\n"
     ]
    }
   ],
   "source": [
    "bot=create_bot(agents)\n",
    "print(query_bot(bot, \"I want to watch a movie with my young daughter.Should we watch Oppenheimer or Inside Out?\"))"
   ]
  }
 ],
 "metadata": {
  "kernelspec": {
   "display_name": "Llamaparse",
   "language": "python",
   "name": "python3"
  },
  "language_info": {
   "codemirror_mode": {
    "name": "ipython",
    "version": 3
   },
   "file_extension": ".py",
   "mimetype": "text/x-python",
   "name": "python",
   "nbconvert_exporter": "python",
   "pygments_lexer": "ipython3",
   "version": "3.11.8"
  }
 },
 "nbformat": 4,
 "nbformat_minor": 2
}
